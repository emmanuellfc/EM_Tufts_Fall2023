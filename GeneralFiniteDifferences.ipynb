{
  "cells": [
    {
      "cell_type": "markdown",
      "metadata": {
        "id": "view-in-github",
        "colab_type": "text"
      },
      "source": [
        "<a href=\"https://colab.research.google.com/github/emmanuellfc/EM_Tufts_Fall2023/blob/main/GeneralFiniteDifferences.ipynb\" target=\"_parent\"><img src=\"https://colab.research.google.com/assets/colab-badge.svg\" alt=\"Open In Colab\"/></a>"
      ]
    },
    {
      "cell_type": "code",
      "source": [
        "# @title Mount Google Drive.\n",
        "# For getting files from drive.\n",
        "from google.colab import drive\n",
        "import os\n",
        "drive.mount('/content/drive')\n",
        "os.chdir('drive/My Drive/Colab Notebooks')"
      ],
      "metadata": {
        "cellView": "form",
        "id": "qNK_bft4pveP"
      },
      "execution_count": null,
      "outputs": []
    },
    {
      "cell_type": "code",
      "execution_count": null,
      "metadata": {
        "id": "3zsvN5yKtBUd",
        "cellView": "form"
      },
      "outputs": [],
      "source": [
        "# @title Dependency nonsense.\n",
        "\n",
        "%%capture\n",
        "\n",
        "# Package dependencies.\n",
        "!apt install libcgal-dev libeigen3-dev\n",
        "!pip install -U pygalmesh\n",
        "!pip install networkx\n",
        "\n",
        "#import pygalmesh\n",
        "#import networkx as nx\n",
        "import numpy as np\n",
        "import matplotlib.pyplot as plt\n",
        "from matplotlib.collections import LineCollection\n",
        "from typing import Iterable\n",
        "from typing import Callable\n",
        "from typing import Optional\n",
        "import math\n",
        "import csv\n",
        "import sys\n",
        "try: del sys.modules['GeneralFiniteDifferences'] # Terrible hack to force reload GFDM because I'm still editing it.\n",
        "except KeyError: pass\n",
        "from GeneralFiniteDifferences import FiniteDifferences\n",
        "from GeneralFiniteDifferences import MeshPoint\n",
        "\n",
        "# FEM importing.\n",
        "try:\n",
        "    import dolfin\n",
        "except ImportError:\n",
        "    !wget \"https://fem-on-colab.github.io/releases/fenics-install.sh\" -O \"/tmp/fenics-install.sh\" && bash \"/tmp/fenics-install.sh\"\n",
        "    import dolfin\n",
        "from fenics import *\n",
        "from mshr import *\n",
        "# Plotting Libraries.\n",
        "plt.style.use(\"_classic_test_patch\")"
      ]
    },
    {
      "cell_type": "markdown",
      "source": [
        "The following are:\n",
        "  - The **FiniteDifferences** class which encapsulates the General Finite Differences Method (GFDM) solver\n",
        "  - Objects that are shared between sub-experiments in this notebook, including plotting macros and shared boundary conditions"
      ],
      "metadata": {
        "id": "qeMJRC4mFfFV"
      }
    },
    {
      "cell_type": "code",
      "source": [
        "# @title Useful things for analysis to consolidate common code (plotting shortcuts, shape generators, and boundary conditions).\n",
        "\n",
        "# Plot a GFDM output.\n",
        "def draw_gfdm_solution(solution:FiniteDifferences):\n",
        "  fig, ax = plt.subplots()\n",
        "  ax.set_aspect('equal')\n",
        "  plt.scatter([ pt.pos[0] for pt in solution.all_points ],\n",
        "              [ pt.pos[1] for pt in solution.all_points ],\n",
        "            c=[ pt.pot    for pt in solution.all_points ],\n",
        "       marker='.')\n",
        "  cbar = plt.colorbar()\n",
        "  cbar.set_label('GFDM potential')\n",
        "  plt.show()\n",
        "\n",
        "# Plot an electric field vector field for a GFDM output.\n",
        "def draw_gfdm_electric(solution:FiniteDifferences):\n",
        "  fig,ax = plt.subplots(dpi=150)\n",
        "  ax.set_aspect('equal')\n",
        "  plt.quiver([ pt.pos[0]               for pt in solution.all_points ],\n",
        "             [ pt.pos[1]               for pt in solution.all_points ],\n",
        "             [ pt.elec[0]              for pt in solution.all_points ],\n",
        "             [ pt.elec[1]              for pt in solution.all_points ],\n",
        "             [ np.linalg.norm(pt.elec) for pt in solution.all_points ])\n",
        "  cbar = plt.colorbar()\n",
        "  cbar.set_label('||Electric field||')\n",
        "  plt.show()\n",
        "\n",
        "# Generic error function for some analytic function.\n",
        "def generic_error(point:MeshPoint,analytic_func:Callable[[MeshPoint],Optional[float]]) -> float:\n",
        "  analytic = analytic_func(point)\n",
        "  if analytic is None: return 0\n",
        "  else: return point.pot - analytic_func(point)\n",
        "\n",
        "# Return a callable that gets the solution for a FEM solution (this helps clean up the syntax when we treat FEM as the analytic solution).\n",
        "def fem_pot(fem_solution) -> Callable[[MeshPoint],Optional[float]]:\n",
        "  # If you are reading this please don't look at what I'm about to do.\n",
        "  def solution_eval(mesh_point:MeshPoint) -> float:\n",
        "    pt = Point(mesh_point.pos[0],mesh_point.pos[1])\n",
        "    try:\n",
        "      return fem_solution(pt)\n",
        "    except RuntimeError:\n",
        "      return None\n",
        "  return solution_eval\n",
        "  #return lambda mesh_point: fem_solution(Point(mesh_point.pos[0],mesh_point.pos[1]))\n",
        "\n",
        "# Plot a generic error plot between GFDM and some accepted solution.\n",
        "def draw_gfdm_error(solution:FiniteDifferences,analytic_func:Callable[[MeshPoint],Optional[float]]):\n",
        "  fig, ax = plt.subplots()\n",
        "  ax.set_aspect('equal')\n",
        "  plt.scatter([ pt.pos[0]                       for pt in solution.all_points ],\n",
        "              [ pt.pos[1]                       for pt in solution.all_points ],\n",
        "            c=[ generic_error(pt,analytic_func) for pt in solution.all_points ],\n",
        "       marker='.')\n",
        "  cbar = plt.colorbar()\n",
        "  cbar.set_label('Absolute error')\n",
        "  plt.show()\n",
        "\n",
        "# Plot an FEM solution.\n",
        "def draw_fem_solution(fem_solution):\n",
        "\n",
        "  fig,ax = plt.subplots()\n",
        "  ax.set_aspect('equal')\n",
        "  plot(fem_solution)\n",
        "  cbar = plt.colorbar(plot(fem_solution))\n",
        "  cbar.set_label('FEM potential')\n",
        "  plt.show()\n",
        "\n",
        "  \"\"\"\n",
        "  plt.figure()                       # Set the resolution\n",
        "  plot(fem_solution, title = 'Potential Field')              # Set the title\n",
        "  plt.colorbar(plot(fem_solution)) # Add a colorbar\n",
        "  plt.show()\n",
        "  \"\"\"\n",
        "\n",
        "# Load a mesh into a list of (x,y) tuples from a CSV file in Google Drive.\n",
        "def load_mesh_from_csv(name:str) -> list:\n",
        "  ret = []\n",
        "  with open(name) as f:\n",
        "    for row in csv.reader(f): ret.append( (float(row[0]),float(row[1])) )\n",
        "  return ret\n",
        "\n",
        "# Coax analytic solution.\n",
        "def coax_analytic_pot_r(r:float) -> float:\n",
        "  V_0 = 10.\n",
        "  a = 0.5\n",
        "  b = 2.\n",
        "  if r <= a: return V_0 # Inside the inner conductor, we just have the potential of that inner conductor.\n",
        "  if r >= b: return 0 # Outside the outer conductor, we just have zero (Gauss's Law - no net charge).\n",
        "  return -V_0/np.log(b/a)*np.log(r/a) + V_0 # numpy is silly and has log as base e.\n",
        "\n",
        "def coax_analytic_pot(point:MeshPoint) -> float:\n",
        "  return coax_analytic_pot_r( np.linalg.norm(point.pos) )\n",
        "\n",
        "# Coax geometries.\n",
        "def circle_generator(radius=1,npoints=24):\n",
        "  for i in range(0,npoints):\n",
        "    x = radius * math.cos(2*math.pi * i/npoints)\n",
        "    y = radius * math.sin(2*math.pi * i/npoints)\n",
        "    yield (x,y)\n",
        "\n",
        "def circle_boundary(point: MeshPoint) -> Optional[float]:\n",
        "  radius = np.linalg.norm(point.pos)\n",
        "  if radius <= 0.5: return 10\n",
        "  if radius >= 2: return 0\n",
        "  return None\n",
        "\n",
        "# Conducting bars geometries.\n",
        "def bars_generator():\n",
        "  yield (-0.10,-0.10)\n",
        "  yield (-0.10,6.10)\n",
        "  yield (6.10,6.10)\n",
        "  yield (6.10,-0.10)\n",
        "\n",
        "def bars_boundary(point: MeshPoint) -> Optional[float]:\n",
        "  # Each of the bars are held at 2.0 V.\n",
        "  if point.pos[0] >= 1.0 and point.pos[0] <= 5.0:\n",
        "    if ( point.pos[1] >= 1.0 and point.pos[1] <= 1.5 ) or ( point.pos[1] >= 4.5 and point.pos[1] <= 5.0 ): return 10.0\n",
        "  # The bounding box is grounded.\n",
        "  if point.pos[0] <= 0.0 or point.pos[0] >= 6.0: return 0.0\n",
        "  if point.pos[1] <= 0.0 or point.pos[1] >= 6.0: return 0.0\n",
        "  return None\n",
        "\n",
        "# Given a mesh list and exact boundary list, return a new boundary that smooths out the old boundary (includes nearby points from the mesh).\n",
        "def make_fuzzy_boundary(mesh_coords:list,boundary_coords:list,fudge:float) -> list:\n",
        "  ret = []\n",
        "  for mesh_pt in mesh_coords:\n",
        "    for boundary_pt in boundary_coords:\n",
        "      if np.linalg.norm([mesh_pt[0] - boundary_pt[0],mesh_pt[1] - boundary_pt[1]]) <= fudge:\n",
        "        ret.append(mesh_pt)\n",
        "        break\n",
        "  return ret\n"
      ],
      "metadata": {
        "id": "-uDEPKqR65eY",
        "cellView": "form"
      },
      "execution_count": null,
      "outputs": []
    },
    {
      "cell_type": "markdown",
      "source": [
        "Baby steps: Make a solution to a cylindrical (2D projection) of a coaxial cable using the GFDM method."
      ],
      "metadata": {
        "id": "Cc3v9V3IGFoI"
      }
    },
    {
      "cell_type": "code",
      "execution_count": null,
      "metadata": {
        "id": "icRSHvnB63LB",
        "cellView": "form"
      },
      "outputs": [],
      "source": [
        "# @title Make our best solution to the COAX problem.\n",
        "\n",
        "# Make a new solver object.\n",
        "solution = FiniteDifferences()\n",
        "# Tell it how large to make the max edge size and how many neighbors we want.\n",
        "solution.set_max_edge_size(0.20)\n",
        "solution.set_num_neighbors(6)\n",
        "\n",
        "# Tell it about our boundary condition function.\n",
        "solution.inform_with_boundary_conditions(circle_boundary)\n",
        "# Have the solver sample points within the edges.\n",
        "solution.make_points_from_boundary(circle_generator(radius=2.5,npoints=36))\n",
        "# Form the internal graph data structure.\n",
        "solution.make_graph_from_points()\n",
        "# Generate the systems matrix that represents the linear set of equations to solve.\n",
        "solution.make_systems_matrix()\n",
        "# Tell the solver to try and solve the systems matrix.\n",
        "solution.solve_systems_matrix()\n",
        "# Also compute the electric field for this solution.\n",
        "solution.compute_electric_field()\n",
        "# Debug: Draw the connectivity graph.\n",
        "solution.draw_connectivity()"
      ]
    },
    {
      "cell_type": "code",
      "execution_count": null,
      "metadata": {
        "id": "pO8ClbaastMO",
        "cellView": "form"
      },
      "outputs": [],
      "source": [
        "# @title Plot the GFDM solution, the electric field for GFDM, and the analytic solution.\n",
        "# Plot an analytic radial solution for one cylinder inside another (coax cable). We reduce the problem to 2D by ignoring the z axis.\n",
        "\n",
        "cartesian_min = -2.5\n",
        "cartesian_max = 2.5\n",
        "nsteps = 300\n",
        "x_values = np.linspace(cartesian_min,cartesian_max,nsteps)\n",
        "y_values = np.linspace(cartesian_min,cartesian_max,nsteps)\n",
        "z_values = np.array([ coax_analytic_pot_r(np.linalg.norm([x,y])) for x in x_values for y in y_values ])\n",
        "\n",
        "x_coords, y_coords = np.meshgrid(x_values,y_values)\n",
        "z_coords = z_values.reshape(nsteps,nsteps)\n",
        "\n",
        "x_limits = [cartesian_min,cartesian_max]\n",
        "y_limits = [cartesian_min,cartesian_max]\n",
        "\n",
        "fig, ax = plt.subplots()\n",
        "plt.pcolor(x_coords,y_coords,z_coords)\n",
        "ax.set_xlim(x_limits)\n",
        "ax.set_ylim(y_limits)\n",
        "cbar = plt.colorbar()\n",
        "cbar.set_label('Analytic potential')\n",
        "plt.show()\n",
        "\n",
        "# Plot the solved potential (again) with color indicating potential at that point.\n",
        "draw_gfdm_solution(solution)\n",
        "\n",
        "# Plot the electric field.\n",
        "draw_gfdm_electric(solution)\n",
        "\n",
        "# Plot the error between GFDM and the analytic COAX solution.\n",
        "draw_gfdm_error(solution,coax_analytic_pot)\n",
        "\n",
        "print(f'Root mean square error: {solution.get_rms_error(coax_analytic_pot)}')"
      ]
    },
    {
      "cell_type": "markdown",
      "source": [
        "Establish RMS as an error index and use it to quantify how choices of node density and neighbor count impact the goodness of the GFDM solution. *This step is slow and can take more than 30 minutes.*"
      ],
      "metadata": {
        "id": "NjPbxNJnGUnX"
      }
    },
    {
      "cell_type": "code",
      "source": [
        "# @title Compute RMS error for various COAX GFDM choices of hyper-parameters.\n",
        "# Using the same geometry as before, find the root mean square error as a function of node count... (This one will take awhile.)\n",
        "\n",
        "max_edge_sizes = [ 0.80, 0.75, 0.70, 0.65, 0.60, 0.55, 0.50, 0.45, 0.40, 0.35, 0.30, 0.25, 0.20, 0.16, 0.12, 0.10, 0.09, 0.08] # Edge sizes we should solve for.\n",
        "num_neighbors = [ 4, 6, 8, 10, 16 ] # Neighbor counts we should solve for.\n",
        "# Make a collection of solution objects and set each up independently...\n",
        "coax_solutions = [] # 2D array: First index is neighbor count, second index is edge size.\n",
        "\n",
        "print(f'Making {len(max_edge_sizes)*len(num_neighbors)} new solution solver objects.')\n",
        "for neighbors in num_neighbors:\n",
        "  new_row = [] # Make a new row for this neighbor count.\n",
        "  for max_edge_size in max_edge_sizes:\n",
        "    new_solution = FiniteDifferences()\n",
        "    new_solution.set_hush(True)\n",
        "    new_solution.set_max_edge_size(max_edge_size)\n",
        "    new_solution.set_num_neighbors(neighbors)\n",
        "    new_row.append(new_solution)\n",
        "  coax_solutions.append(new_row) # Now that it's been assembled, add the new row to the 2D array.\n",
        "\n",
        "print('Building meshes for all solutions and informing with boundary conditions.')\n",
        "for row in coax_solutions:\n",
        "  for new_solution in row:\n",
        "    new_solution.inform_with_boundary_conditions(circle_boundary)\n",
        "    new_solution.make_points_from_boundary(circle_generator(radius=2.5,npoints=36))\n",
        "\n",
        "print('Building connectivity graphs for all solutions (this is the slow step).')\n",
        "for row in coax_solutions:\n",
        "  for new_solution in row:\n",
        "    new_solution.make_graph_from_points()\n",
        "\n",
        "print('Building systems matrices for all solutions.')\n",
        "for row in coax_solutions:\n",
        "  for new_solution in row:\n",
        "    new_solution.make_systems_matrix()\n",
        "\n",
        "print('Solving systems matrices for all solutions.')\n",
        "for row in coax_solutions:\n",
        "  for new_solution in row:\n",
        "    new_solution.solve_systems_matrix()\n",
        "\n",
        "# We now have solutions for all of our systems!\n",
        "print(f'Done solving {len(max_edge_sizes)*len(num_neighbors)} systems!')"
      ],
      "metadata": {
        "id": "O-7ZKTVA-UPh",
        "cellView": "form"
      },
      "execution_count": null,
      "outputs": []
    },
    {
      "cell_type": "code",
      "source": [
        "# @title Plot RMS error for the previous cell.\n",
        "# Make plotting a separate cell so that we don't need to re-evaluate solutions to change the plotting style.\n",
        "\n",
        "# Plot RMS error versus the number of nodes in the plot.\n",
        "scatters = []\n",
        "fig, ax = plt.subplots()\n",
        "for i,neighbors in enumerate(coax_solutions):\n",
        "  scatter = ax.scatter([ len(solution.all_points) for solution in coax_solutions[i] ],\n",
        "                       [ solution.get_rms_error(coax_analytic_pot) for solution in coax_solutions[i] ],\n",
        "                       label = f'{neighbors} neighbors')\n",
        "  scatters.append(scatter)\n",
        "ax.legend(handles=scatters,labels=[ f'{neighbors} neighbors' for neighbors in num_neighbors ],loc='upper right')\n",
        "ax.set_xlabel('Number of nodes in mesh')\n",
        "ax.set_ylabel('RMS error')\n",
        "plt.show()"
      ],
      "metadata": {
        "id": "Th2xIf-XIS9S",
        "cellView": "form"
      },
      "execution_count": null,
      "outputs": []
    },
    {
      "cell_type": "markdown",
      "source": [
        "How well does the GFDM solution hold up as a function of radius? Average the GFDM solution over concentric circles and compare these targets to the analytic solution at these radii."
      ],
      "metadata": {
        "id": "v74IggKpGoM8"
      }
    },
    {
      "cell_type": "code",
      "source": [
        "# @title Compute a solution to the COAX problem for GFDM radial averaging.\n",
        "# Make a new solution that we'll use for our radial pot average plot.\n",
        "\n",
        "solution_r = FiniteDifferences()\n",
        "solution_r.set_max_edge_size(0.07)\n",
        "solution_r.set_num_neighbors(6)\n",
        "solution_r.inform_with_boundary_conditions(circle_boundary)\n",
        "solution_r.make_points_from_boundary(circle_generator(radius=2.5,npoints=36))\n",
        "solution_r.make_graph_from_points()\n",
        "solution_r.make_systems_matrix()\n",
        "solution_r.solve_systems_matrix()"
      ],
      "metadata": {
        "id": "2YS47zaVW2OX",
        "cellView": "form"
      },
      "execution_count": null,
      "outputs": []
    },
    {
      "cell_type": "code",
      "source": [
        "# @title Plot radial GFDM for the previous cell.\n",
        "# Build a plot that shows the potential as a function of radius. For some radius, take an average of potential within a concentric ring...\n",
        "radstart = 0.5\n",
        "radend = 2.0\n",
        "nradii = 50\n",
        "radii = np.linspace(radstart,radend,nradii)\n",
        "\n",
        "# Helper function that smooths out the pot over a target radius with some width.\n",
        "def get_radial_average(solution:FiniteDifferences,target:float,width=0.05) -> float:\n",
        "  pot_to_average = []\n",
        "  for pt in solution.all_points:\n",
        "    radius = np.linalg.norm(pt.pos)\n",
        "    if target-width/2 <= radius <= target+width/2:\n",
        "      pot_to_average.append(pt.pot)\n",
        "  return np.mean(pot_to_average)\n",
        "\n",
        "smooth_radii = np.linspace(radstart,radend,1000)\n",
        "numerical_by_radius = [ get_radial_average(solution_r,radius) for radius in radii ]\n",
        "\n",
        "fig, ax = plt.subplots()\n",
        "numerical, = plt.plot(radii,numerical_by_radius)\n",
        "analytic, = plt.plot(smooth_radii,[ coax_analytic_pot_r(radius) for radius in smooth_radii ])\n",
        "ax.legend(handles=[numerical,analytic],labels=[ 'General finite differences','Analytic' ],loc='upper right')\n",
        "ax.set_xlabel('Radius')\n",
        "ax.set_ylabel('Potential')\n",
        "plt.show()"
      ],
      "metadata": {
        "id": "jKx4NdkYnkMG",
        "cellView": "form"
      },
      "execution_count": null,
      "outputs": []
    },
    {
      "cell_type": "markdown",
      "source": [
        "So far, we have allowed the GFDM solver to make its own mesh. How well does it do when we force it to use a mesh produced by FEniCS?"
      ],
      "metadata": {
        "id": "N7OyIPI5Gzmx"
      }
    },
    {
      "cell_type": "code",
      "source": [
        "# @title Compute the GFDM COAX solution using the mesh produced by fenics.\n",
        "\n",
        "# Make a new COAX solution but force the solver to use the mesh generated by fenics for a one-to-one comparison. (File is in drive as a CSV...)\n",
        "fenics_coax_mesh = load_mesh_from_csv('Coaxial_Coordinates.csv')\n",
        "\n",
        "solution_fenics_coax = FiniteDifferences()\n",
        "solution_fenics_coax.set_num_neighbors(6)\n",
        "solution_fenics_coax.set_max_edge_size(0.20)\n",
        "solution_fenics_coax.inform_with_boundary_conditions(circle_boundary)\n",
        "solution_fenics_coax.inform_with_manual_mesh(fenics_coax_mesh)\n",
        "solution_fenics_coax.make_graph_from_points()\n",
        "solution_fenics_coax.make_systems_matrix()\n",
        "solution_fenics_coax.solve_systems_matrix()"
      ],
      "metadata": {
        "cellView": "form",
        "id": "wavR0yRUdObN"
      },
      "execution_count": null,
      "outputs": []
    },
    {
      "cell_type": "code",
      "source": [
        "# @title Plot the GFDM COAX solution using the fenics mesh from the previous cell.\n",
        "\n",
        "# Plot the solution itself.\n",
        "draw_gfdm_solution(solution_fenics_coax)\n",
        "\n",
        "# Plot absolute error between GFDM and the analytic solution.\n",
        "draw_gfdm_error(solution_fenics_coax,coax_analytic_pot)\n",
        "\n",
        "# Also draw connectivity\n",
        "solution_fenics_coax.draw_connectivity()\n",
        "\n",
        "print(f'Root mean square error: {solution_fenics_coax.get_rms_error(coax_analytic_pot)}')\n"
      ],
      "metadata": {
        "cellView": "form",
        "id": "fmiYg7XbjV2z"
      },
      "execution_count": null,
      "outputs": []
    },
    {
      "cell_type": "markdown",
      "source": [
        "New problem: Solve two finite-length conducting bars using the GFDM."
      ],
      "metadata": {
        "id": "BHai0eieHAF0"
      }
    },
    {
      "cell_type": "code",
      "source": [
        "# @title Compute the GFDM solution for the two bars.\n",
        "\n",
        "solution_bars = FiniteDifferences()\n",
        "solution_bars.set_num_neighbors(6)\n",
        "solution_bars.set_max_edge_size(0.13)\n",
        "solution_bars.inform_with_boundary_conditions(bars_boundary)\n",
        "solution_bars.make_points_from_boundary(bars_generator())\n",
        "solution_bars.make_graph_from_points()\n",
        "solution_bars.make_systems_matrix()\n",
        "solution_bars.solve_systems_matrix()"
      ],
      "metadata": {
        "cellView": "form",
        "id": "z3IQc7VaQxvP"
      },
      "execution_count": null,
      "outputs": []
    },
    {
      "cell_type": "code",
      "source": [
        "# @title Compute the FEM solution for the two bars.\n",
        "\n",
        "%%capture\n",
        "\n",
        "x_lenght = 6.0\n",
        "y_lenght = 6.0\n",
        "ambient = Rectangle(Point(0.0, 0.0), Point(x_lenght, y_lenght))\n",
        "barone  = Rectangle(Point(1.0, 1.0), Point(5.0, 1.5))\n",
        "bartwo = Rectangle(Point(1.0, 4.5), Point(5.0, 5.0))\n",
        "domain = ambient - barone - bartwo\n",
        "mesh = generate_mesh(domain, 64)\n",
        "\n",
        "# Sub domain for no-slip (mark whole boundary, inflow and outflow will overwrite)\n",
        "class Interior(SubDomain):\n",
        "    def inside(self, x, on_boundary):\n",
        "        return on_boundary\n",
        "\n",
        "# Sub domain for inflow (right)\n",
        "class Left(SubDomain):\n",
        "    def inside(self, x, on_boundary):\n",
        "        return bool( near(x[0], 0.0) and on_boundary)\n",
        "\n",
        "class Right(SubDomain):\n",
        "    def inside(self, x, on_boundary):\n",
        "        return bool( near(x[0], x_lenght) and on_boundary)\n",
        "\n",
        "class Bottom(SubDomain):\n",
        "    def inside(self, x, on_boundary):\n",
        "        return bool( near(x[1], 0.0) and on_boundary)\n",
        "\n",
        "class Top(SubDomain):\n",
        "    def inside(self, x, on_boundary):\n",
        "        return bool( near(x[1], y_lenght) and on_boundary)\n",
        "\n",
        "# Create mesh functions over the cell facets\n",
        "sub_domains = MeshFunction(\"size_t\", mesh, mesh.topology().dim() - 1)\n",
        "# Mark all facets as sub domain 5\n",
        "sub_domains.set_all(5)\n",
        "\n",
        "interior = Interior()\n",
        "left     = Left()\n",
        "right    = Right()\n",
        "bottom   = Bottom()\n",
        "top      = Top()\n",
        "\n",
        "interior.mark(sub_domains, 0)\n",
        "left.mark(sub_domains, 1)\n",
        "right.mark(sub_domains, 2)\n",
        "bottom.mark(sub_domains, 3)\n",
        "top.mark(sub_domains, 4)\n",
        "\n",
        "V = FunctionSpace(mesh, 'P', 1)\n",
        "# Boundary Conditions\n",
        "bc0 = DirichletBC(V, Constant(10.0), sub_domains, 0)\n",
        "bc1 = DirichletBC(V, Constant(0.0), sub_domains, 1)\n",
        "bc2 = DirichletBC(V, Constant(0.0), sub_domains, 2)\n",
        "bc3 = DirichletBC(V, Constant(0.0), sub_domains, 3)\n",
        "bc4 = DirichletBC(V, Constant(0.0), sub_domains, 4)\n",
        "bcs = [bc0, bc1, bc2, bc3, bc4]\n",
        "\n",
        "u_bars = TrialFunction(V)\n",
        "v = TestFunction(V)\n",
        "a = dot(grad(u_bars), grad(v)) * dx\n",
        "L = Constant('0') * v * dx\n",
        "u_bars = Function(V)\n",
        "solve(a == L, u_bars, bcs)"
      ],
      "metadata": {
        "cellView": "form",
        "id": "tcRV8Y0-zoqh"
      },
      "execution_count": null,
      "outputs": []
    },
    {
      "cell_type": "code",
      "source": [
        "# @title Plot the two bars solution from the previous cell.\n",
        "\n",
        "draw_gfdm_solution(solution_bars)\n",
        "\n",
        "solution_bars.draw_connectivity()"
      ],
      "metadata": {
        "cellView": "form",
        "id": "GxqOitRzRPz2"
      },
      "execution_count": null,
      "outputs": []
    },
    {
      "cell_type": "code",
      "source": [
        "# @title Plot the GFDM vs FEM error.\n",
        "\n",
        "# First plot the FEM solution.\n",
        "draw_fem_solution(u_bars)\n",
        "\n",
        "# Draw the absolute error plot taking FEM as accepted.\n",
        "draw_gfdm_error(solution_bars,fem_pot(u_bars))\n",
        "\n",
        "print(f'Root mean square error: {solution_bars.get_rms_error(fem_pot(u_bars))}')\n"
      ],
      "metadata": {
        "cellView": "form",
        "id": "4SQPKARwTBiZ"
      },
      "execution_count": null,
      "outputs": []
    },
    {
      "cell_type": "markdown",
      "source": [
        "Next, force the GFDM solver to use a mesh produced by FEniCS. How well does it do compared to the FEM?"
      ],
      "metadata": {
        "id": "Z6sKElH4HH8J"
      }
    },
    {
      "cell_type": "code",
      "source": [
        "# @title Compute the GFDM two bars solution using the mesh produced by fenics.\n",
        "\n",
        "# Make a new COAX solution but force the solver to use the mesh generated by fenics for a one-to-one comparison. (File is in drive as a CSV...)\n",
        "fenics_bars_mesh = load_mesh_from_csv('Two_Bars_Vertices.csv')\n",
        "\n",
        "solution_fenics_bars = FiniteDifferences()\n",
        "solution_fenics_bars.set_num_neighbors(6)\n",
        "solution_fenics_bars.set_max_edge_size(0.20)\n",
        "solution_fenics_bars.inform_with_boundary_conditions(bars_boundary)\n",
        "solution_fenics_bars.inform_with_manual_mesh(fenics_bars_mesh)\n",
        "solution_fenics_bars.make_graph_from_points()\n",
        "solution_fenics_bars.make_systems_matrix()\n",
        "solution_fenics_bars.solve_systems_matrix()"
      ],
      "metadata": {
        "cellView": "form",
        "id": "MCyz3AyktFBW"
      },
      "execution_count": null,
      "outputs": []
    },
    {
      "cell_type": "code",
      "source": [
        "# @title Plot the GFDM two bars solution from the previous cell.\n",
        "draw_gfdm_solution(solution_fenics_bars)\n",
        "\n",
        "solution_fenics_bars.draw_connectivity()"
      ],
      "metadata": {
        "cellView": "form",
        "id": "MGffOkO9u--5"
      },
      "execution_count": null,
      "outputs": []
    },
    {
      "cell_type": "code",
      "source": [
        "# @title Plot the comparison between FEM and GFDM for the two bars.\n",
        "\n",
        "# Next plot the absolute difference between FEM and GFDM.\n",
        "draw_gfdm_error(solution_fenics_bars,fem_pot(u_bars))\n",
        "\n",
        "print(f'Root mean square error: {solution_fenics_bars.get_rms_error(fem_pot(u_bars))}')\n"
      ],
      "metadata": {
        "id": "O_TzBX8E1Etf",
        "cellView": "form"
      },
      "execution_count": null,
      "outputs": []
    },
    {
      "cell_type": "markdown",
      "source": [
        "Challenge problem: How well does the GFDM do for a highly irregular geometry! How about a dolfin? :)"
      ],
      "metadata": {
        "id": "QgKT65bUHW4_"
      }
    },
    {
      "cell_type": "code",
      "source": [
        "# @title Compute the dolfin solution with GFDM using the mesh made by fenics.\n",
        "import xml.etree.ElementTree as et\n",
        "tree = et.parse('dolfin_fine.xml')\n",
        "root = tree.getroot()\n",
        "\n",
        "# Unpack the XML elemet tree into a list of tuples: [ (x1,y1), (x2,y2), ... ]\n",
        "vertices = root.find('mesh').find('vertices')\n",
        "dolfin_mesh_coords = [ ( float(vertex.attrib['x']), float(vertex.attrib['y']) ) for vertex in vertices ]\n",
        "\n",
        "x_limits = [-0.10,1.10]\n",
        "y_limits = [-0.10,1.10]\n",
        "\n",
        "\"\"\"\n",
        "fig, ax = plt.subplots()\n",
        "plt.scatter([ pt[0] for pt in dolfin_mesh_coords ],\n",
        "            [ pt[1] for pt in dolfin_mesh_coords ],\n",
        "            marker='.')\n",
        "ax.set_xlim(x_limits)\n",
        "ax.set_ylim(y_limits)\n",
        "plt.show()\n",
        "\"\"\"\n",
        "\n",
        "# Very Formal Experiment has shown that the first 77 points are used to make the dolfin outline - use these as BC!\n",
        "# Are there any other points that are near these points? Fudge the boundary a litle bit to include more points...\n",
        "dolfin_boundary_coords = make_fuzzy_boundary(dolfin_mesh_coords,dolfin_mesh_coords[:77],0.01)\n",
        "\n",
        "\"\"\"\n",
        "dolfin_boundary_coords = []\n",
        "for mesh_pt in dolfin_mesh_coords:\n",
        "  for boundary_pt in bare_dolfin_boundary_coords:\n",
        "    if np.linalg.norm([mesh_pt[0] - boundary_pt[0],mesh_pt[1] - boundary_pt[1]]) < 0.01:\n",
        "      dolfin_boundary_coords.append(mesh_pt)\n",
        "      break\n",
        "\"\"\"\n",
        "\"\"\"\n",
        "fig, ax = plt.subplots()\n",
        "plt.scatter([ pt[0] for pt in dolfin_boundary_coords ],\n",
        "            [ pt[1] for pt in dolfin_boundary_coords ],\n",
        "            marker='.')\n",
        "ax.set_xlim(x_limits)\n",
        "ax.set_ylim(y_limits)\n",
        "plt.show()\n",
        "\"\"\"\n",
        "\n",
        "def dolfin_boundary_func(pt:MeshPoint) -> float:\n",
        "  if pt.pos[1] <= 0.02: return 5.0 # Bottom boundary is 5.0 V.\n",
        "  if pt.pos[0] <= 0.02 or pt.pos[0] >= 0.98: return 0.0 # Bounding box grounded.\n",
        "  if pt.pos[1] >= 0.98: return 0.0 # Bounding box grounded.\n",
        "  if pt.pos in dolfin_boundary_coords: return 10.0 # Boundary of the dolphin is set to 10.0 V.\n",
        "\n",
        "print(f'Making a manual dolfin mesh using {len(dolfin_mesh_coords)} mesh and {len(dolfin_boundary_coords)} boundary points...')\n",
        "\n",
        "dolfin_solution = FiniteDifferences()\n",
        "dolfin_solution.set_num_neighbors(6)\n",
        "dolfin_solution.set_max_edge_size(0.10)\n",
        "dolfin_solution.inform_with_boundary_conditions(dolfin_boundary_func)\n",
        "dolfin_solution.inform_with_manual_mesh(dolfin_mesh_coords)\n",
        "dolfin_solution.make_graph_from_points()\n",
        "dolfin_solution.make_systems_matrix()\n",
        "dolfin_solution.solve_systems_matrix()\n"
      ],
      "metadata": {
        "cellView": "form",
        "id": "41fBPNwGVYtA"
      },
      "execution_count": null,
      "outputs": []
    },
    {
      "cell_type": "code",
      "source": [
        "# @title Solve the dolfin problem using FEM.\n",
        "\n",
        "%%capture\n",
        "\n",
        "# Sub domain for no-slip (mark whole boundary, inflow and outflow will overwrite)\n",
        "class Interior(SubDomain):\n",
        "    def inside(self, x, on_boundary):\n",
        "        return on_boundary\n",
        "\n",
        "# Sub domain for inflow (right)\n",
        "class Left(SubDomain):\n",
        "    def inside(self, x, on_boundary):\n",
        "        return x[0] > 1.0 - DOLFIN_EPS and on_boundary\n",
        "\n",
        "# Sub domain for outflow (left)\n",
        "class Right(SubDomain):\n",
        "    def inside(self, x, on_boundary):\n",
        "        return x[0] < DOLFIN_EPS and on_boundary\n",
        "\n",
        "class Bottom(SubDomain):\n",
        "    def inside(self, x, on_boundary):\n",
        "        return x[1] < DOLFIN_EPS and on_boundary\n",
        "\n",
        "class Top(SubDomain):\n",
        "    def inside(self, x, on_boundary):\n",
        "        return x[1] > 1.0 - DOLFIN_EPS and on_boundary\n",
        "\n",
        "mesh = Mesh('dolfin_fine.xml.gz')\n",
        "\n",
        "# Create mesh functions over the cell facets\n",
        "sub_domains = MeshFunction(\"size_t\", mesh, mesh.topology().dim() - 1)\n",
        "# Mark all facets as sub domain 5\n",
        "sub_domains.set_all(5)\n",
        "\n",
        "interior = Interior()\n",
        "left     = Left()\n",
        "right    = Right()\n",
        "bottom   = Bottom()\n",
        "top      = Top()\n",
        "\n",
        "interior.mark(sub_domains, 0)\n",
        "left.mark(sub_domains, 1)\n",
        "right.mark(sub_domains, 2)\n",
        "bottom.mark(sub_domains, 3)\n",
        "top.mark(sub_domains, 4)\n",
        "\n",
        "V = FunctionSpace(mesh, 'P', 1)\n",
        "# Boundary Conditions\n",
        "bc0 = DirichletBC(V, Constant(10.0), sub_domains, 0)\n",
        "bc1 = DirichletBC(V, Constant(0.0), sub_domains, 1)\n",
        "bc2 = DirichletBC(V, Constant(0.0), sub_domains, 2)\n",
        "bc3 = DirichletBC(V, Constant(5.0), sub_domains, 3)\n",
        "bc4 = DirichletBC(V, Constant(0.0), sub_domains, 4)\n",
        "bcs = [bc0, bc1, bc2, bc3, bc4]\n",
        "\n",
        "u_dolfin = TrialFunction(V)\n",
        "v = TestFunction(V)\n",
        "a = dot(grad(u_dolfin), grad(v)) * dx\n",
        "L = Constant('0') * v * dx\n",
        "u_dolfin = Function(V)\n",
        "solve(a == L, u_dolfin, bcs)"
      ],
      "metadata": {
        "cellView": "form",
        "id": "MTOM9k6y1-Tr"
      },
      "execution_count": null,
      "outputs": []
    },
    {
      "cell_type": "code",
      "source": [
        "# @title Plot the dolfin solution for GFDM.\n",
        "dolfin_solution.draw_connectivity()\n",
        "\n",
        "draw_gfdm_solution(dolfin_solution)"
      ],
      "metadata": {
        "cellView": "form",
        "id": "2Ybo-saOsRDb"
      },
      "execution_count": null,
      "outputs": []
    },
    {
      "cell_type": "code",
      "source": [
        "# @title Plot the FEM solution to the dolfin problem.\n",
        "\n",
        "# Plotting the solution.\n",
        "draw_fem_solution(u_dolfin)"
      ],
      "metadata": {
        "id": "aemUXiFI3KrI",
        "cellView": "form"
      },
      "execution_count": null,
      "outputs": []
    },
    {
      "cell_type": "code",
      "source": [
        "# @title Perform an absolute error comparison between GFDM and FEM for the dolfin.\n",
        "\n",
        "draw_gfdm_error(dolfin_solution,fem_pot(u_dolfin))\n",
        "\n",
        "print(f'Root mean square error: {dolfin_solution.get_rms_error(fem_pot(u_dolfin))}')"
      ],
      "metadata": {
        "cellView": "form",
        "id": "BheAcgvZ3foW"
      },
      "execution_count": null,
      "outputs": []
    },
    {
      "cell_type": "markdown",
      "source": [
        "Another challenge problem for highly irregular geometry..."
      ],
      "metadata": {
        "id": "vcLjvBXJSnnH"
      }
    },
    {
      "cell_type": "code",
      "source": [
        "# @title Compute the python solution with GFDM using the mesh made by fenics.\n",
        "\n",
        "# Get the mesh from Google Drive.\n",
        "python_mesh_coords = load_mesh_from_csv('Pythonic.csv')\n",
        "\n",
        "\"\"\"\n",
        "fig,ax = plt.subplots()\n",
        "ax.set_aspect('equal')\n",
        "plt.scatter( [ pt[0] for pt in python_mesh_coords ],\n",
        "             [ pt[1] for pt in python_mesh_coords ],\n",
        "      marker='.')\n",
        "plt.show()\n",
        "\"\"\"\n",
        "\n",
        "python_boundary_coords = make_fuzzy_boundary(python_mesh_coords,python_mesh_coords[:433],5)\n",
        "\n",
        "def python_boundary_func(pt:MeshPoint) -> float:\n",
        "  # Bounding box is grounded...\n",
        "  if pt.pos[0] <= 0.02 or pt.pos[0] >= 269.98: return 0.0\n",
        "  if pt.pos[1] >= -0.02 or pt.pos[1] <= -498.98: return 0.0\n",
        "  if pt.pos in python_boundary_coords: return 10 # Boundary of the python is set to 10.0 V.\n",
        "\n",
        "print(f'Making a manual python mesh using {len(python_mesh_coords)} mesh and {len(python_boundary_coords)} boundary points...')\n",
        "\n",
        "python_solution = FiniteDifferences()\n",
        "python_solution.set_num_neighbors(6)\n",
        "python_solution.set_max_edge_size(45)\n",
        "python_solution.inform_with_boundary_conditions(python_boundary_func)\n",
        "python_solution.inform_with_manual_mesh(python_mesh_coords)\n",
        "python_solution.make_graph_from_points()\n",
        "python_solution.make_systems_matrix()\n",
        "python_solution.solve_systems_matrix()"
      ],
      "metadata": {
        "cellView": "form",
        "id": "mO0Nu9bkSszg"
      },
      "execution_count": null,
      "outputs": []
    },
    {
      "cell_type": "code",
      "source": [
        "# @title Get an FEM solution for the python.\n",
        "\n",
        "%%capture\n",
        "\n",
        "# Sub domain for no-slip (mark whole boundary, inflow and outflow will overwrite)\n",
        "class Interior(SubDomain):\n",
        "    def inside(self, x, on_boundary):\n",
        "        return on_boundary\n",
        "\n",
        "# Sub domain for inflow (right)\n",
        "class Left(SubDomain):\n",
        "    def inside(self, x, on_boundary):\n",
        "        return x[0] > 250.0 - DOLFIN_EPS and on_boundary\n",
        "\n",
        "# Sub domain for outflow (left)\n",
        "class Right(SubDomain):\n",
        "    def inside(self, x, on_boundary):\n",
        "        return x[0] < DOLFIN_EPS and on_boundary\n",
        "\n",
        "class Bottom(SubDomain):\n",
        "    def inside(self, x, on_boundary):\n",
        "        return x[1] <  -499.0 - DOLFIN_EPS and on_boundary\n",
        "\n",
        "class Top(SubDomain):\n",
        "    def inside(self, x, on_boundary):\n",
        "        return x[1] > 0.0 - DOLFIN_EPS and on_boundary\n",
        "\n",
        "mesh = Mesh('snake_hole.xml')\n",
        "\n",
        "# Create mesh functions over the cell facets\n",
        "sub_domains = MeshFunction(\"size_t\", mesh, mesh.topology().dim() - 1)\n",
        "# Mark all facets as sub domain 5\n",
        "sub_domains.set_all(5)\n",
        "\n",
        "interior = Interior()\n",
        "left     = Left()\n",
        "right    = Right()\n",
        "bottom   = Bottom()\n",
        "top      = Top()\n",
        "\n",
        "interior.mark(sub_domains, 0)\n",
        "left.mark(sub_domains, 1)\n",
        "right.mark(sub_domains, 2)\n",
        "bottom.mark(sub_domains, 3)\n",
        "top.mark(sub_domains, 4)\n",
        "\n",
        "V = FunctionSpace(mesh, 'P', 1)\n",
        "# Boundary Conditions\n",
        "bc0 = DirichletBC(V, Constant(10.0), sub_domains, 0)\n",
        "bc1 = DirichletBC(V, Constant(0.0), sub_domains, 1)\n",
        "bc2 = DirichletBC(V, Constant(0.0), sub_domains, 2)\n",
        "bc3 = DirichletBC(V, Constant(0.0), sub_domains, 3)\n",
        "bc4 = DirichletBC(V, Constant(0.0), sub_domains, 4)\n",
        "bcs = [bc0, bc1, bc2, bc3, bc4]\n",
        "\n",
        "u_python = TrialFunction(V)\n",
        "v = TestFunction(V)\n",
        "a = dot(grad(u_python), grad(v)) * dx\n",
        "L = Constant('0') * v * dx\n",
        "u_python = Function(V)\n",
        "solve(a == L, u_python, bcs)"
      ],
      "metadata": {
        "cellView": "form",
        "id": "kvCWSvMpc8ZI"
      },
      "execution_count": null,
      "outputs": []
    },
    {
      "cell_type": "code",
      "source": [
        "# @title Plot the python solution for GFDM.\n",
        "python_solution.draw_connectivity()\n",
        "\n",
        "draw_gfdm_solution(python_solution)"
      ],
      "metadata": {
        "cellView": "form",
        "id": "1TP5cWxqavMh"
      },
      "execution_count": null,
      "outputs": []
    },
    {
      "cell_type": "code",
      "source": [
        "# @title Compare GFDM to FEM for the python.\n",
        "\n",
        "draw_fem_solution(u_python)\n",
        "\n",
        "draw_gfdm_error(python_solution,fem_pot(u_python))"
      ],
      "metadata": {
        "cellView": "form",
        "id": "2qD9h62CdT8q"
      },
      "execution_count": null,
      "outputs": []
    }
  ],
  "metadata": {
    "colab": {
      "provenance": [],
      "authorship_tag": "ABX9TyNZNb95UkxwQT29uoYm7Rpc",
      "include_colab_link": true
    },
    "kernelspec": {
      "display_name": "Python 3",
      "name": "python3"
    },
    "language_info": {
      "name": "python"
    }
  },
  "nbformat": 4,
  "nbformat_minor": 0
}