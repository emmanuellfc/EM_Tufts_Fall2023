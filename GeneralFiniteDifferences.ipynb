{
  "nbformat": 4,
  "nbformat_minor": 0,
  "metadata": {
    "colab": {
      "provenance": [],
      "authorship_tag": "ABX9TyN4ys6nwaImNSsYVNM7gx8q",
      "include_colab_link": true
    },
    "kernelspec": {
      "name": "python3",
      "display_name": "Python 3"
    },
    "language_info": {
      "name": "python"
    }
  },
  "cells": [
    {
      "cell_type": "markdown",
      "metadata": {
        "id": "view-in-github",
        "colab_type": "text"
      },
      "source": [
        "<a href=\"https://colab.research.google.com/github/emmanuellfc/EM_Tufts_Fall2023/blob/main/GeneralFiniteDifferences.ipynb\" target=\"_parent\"><img src=\"https://colab.research.google.com/assets/colab-badge.svg\" alt=\"Open In Colab\"/></a>"
      ]
    },
    {
      "cell_type": "code",
      "execution_count": null,
      "metadata": {
        "id": "3zsvN5yKtBUd"
      },
      "outputs": [],
      "source": [
        "# Package dependencies.\n",
        "!apt install libcgal-dev libeigen3-dev\n",
        "!pip install -U pygalmesh\n",
        "!pip install networkx"
      ]
    },
    {
      "cell_type": "code",
      "source": [
        "# Imports.\n",
        "import pygalmesh\n",
        "import networkx as nx\n",
        "import numpy as np\n",
        "import matplotlib.pyplot as plt"
      ],
      "metadata": {
        "id": "pFSb4hjU6BUa"
      },
      "execution_count": null,
      "outputs": []
    },
    {
      "cell_type": "code",
      "source": [
        "# Represents a mesh (contains a graph) for the system we're trying to solve.\n",
        "class FiniteDifferences:\n",
        "  # Initialize the object with default values.\n",
        "  def __init__(self):\n",
        "    self.edge_points = None # List of (x,y) points that form the boundary of the 2D space.\n",
        "    self.region_points = None # List of (x,y) points that sample the region defined by the boundary.\n",
        "    self.graph = nx.Graph() # Graph data structure representing the region.\n",
        "    self.boundary_conditions = [] # Not sure what the elements of this will look like yet.\n",
        "    self.systems_matrix = None # m x m matrix where m is the number of points in the space.\n",
        "\n",
        "  # Make a list of points from some edge conditions. This makes a surface \"mesh\" from a boundary definition. The boundary is a list of points.\n",
        "  def make_points_from_boundary(self):\n",
        "    pass\n",
        "  # Make a mesh from a list of points. Don't make neighbors out of points that are too far away.\n",
        "  def make_mesh_from_points(self):\n",
        "    pass\n",
        "  # Only callable once a graph exists. Make the C matrix element by element.\n",
        "  def make_systems_matrix(self):\n",
        "    pass\n",
        "  # Inform the method of boundary conditions that exist for the problem.\n",
        "  def inform_with_boundary_condition(self):\n",
        "    pass\n",
        "  # Only callable once a C matrix exists. Try to solve the C matrix.\n",
        "  def solve_systems_matrix(self):\n",
        "    pass\n",
        "  # Profit???"
      ],
      "metadata": {
        "id": "cBZK-9HLtfoO"
      },
      "execution_count": null,
      "outputs": []
    },
    {
      "cell_type": "code",
      "source": [],
      "metadata": {
        "id": "icRSHvnB63LB"
      },
      "execution_count": null,
      "outputs": []
    }
  ]
}