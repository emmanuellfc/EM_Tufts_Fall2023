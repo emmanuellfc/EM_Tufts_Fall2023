{
  "nbformat": 4,
  "nbformat_minor": 0,
  "metadata": {
    "colab": {
      "provenance": [],
      "authorship_tag": "ABX9TyO/BqrwNW22dV/+8X6DIcbg",
      "include_colab_link": true
    },
    "kernelspec": {
      "name": "python3",
      "display_name": "Python 3"
    },
    "language_info": {
      "name": "python"
    }
  },
  "cells": [
    {
      "cell_type": "markdown",
      "metadata": {
        "id": "view-in-github",
        "colab_type": "text"
      },
      "source": [
        "<a href=\"https://colab.research.google.com/github/emmanuellfc/EM_Tufts_Fall2023/blob/main/GFDMDemonstration.ipynb\" target=\"_parent\"><img src=\"https://colab.research.google.com/assets/colab-badge.svg\" alt=\"Open In Colab\"/></a>"
      ]
    },
    {
      "cell_type": "code",
      "source": [
        "# @title Mount Google Drive.\n",
        "\n",
        "# For getting files from drive.\n",
        "from google.colab import drive\n",
        "import os\n",
        "drive.mount('/content/drive')\n",
        "os.chdir('drive/My Drive/Colab Notebooks')"
      ],
      "metadata": {
        "colab": {
          "base_uri": "https://localhost:8080/"
        },
        "cellView": "form",
        "id": "otTwYPrSqmDJ",
        "outputId": "707d7806-887c-46c2-e974-7f1953e72e2b"
      },
      "execution_count": 1,
      "outputs": [
        {
          "output_type": "stream",
          "name": "stdout",
          "text": [
            "Mounted at /content/drive\n"
          ]
        }
      ]
    },
    {
      "cell_type": "code",
      "execution_count": 2,
      "metadata": {
        "cellView": "form",
        "id": "7P1mjAhWnHsp"
      },
      "outputs": [],
      "source": [
        "# @title Dependency nonsense.\n",
        "%%capture\n",
        "\n",
        "# Package dependencies.\n",
        "!apt install libcgal-dev libeigen3-dev\n",
        "!pip install -U pygalmesh\n",
        "!pip install networkx\n",
        "\n",
        "import numpy as np\n",
        "import matplotlib.pyplot as plt\n",
        "from matplotlib.collections import LineCollection\n",
        "from typing import Iterable\n",
        "from typing import Callable\n",
        "from typing import Optional\n",
        "import math\n",
        "import csv\n",
        "from GeneralFiniteDifferences import MeshPoint\n",
        "from GeneralFiniteDifferences import FiniteDifferences"
      ]
    },
    {
      "cell_type": "code",
      "source": [
        "# @title Make a new boundary: A box with some irregular potentials.\n",
        "\n",
        "# A series of points when strung together form a boundary.\n",
        "def box_generator():\n",
        "  for y in np.linspace(0,1,15,endpoint=False): yield (0,y) # Make the left edge.\n",
        "  for x in np.linspace(0,1,15,endpoint=False): yield (x,1) # Make the top edge.\n",
        "  for y in np.linspace(0,1,15,endpoint=False): yield (1,1-y) # Make the right edge.\n",
        "  for x in np.linspace(0,1,15,endpoint=False): yield (1-x,0) # Make the bottom edge.\n",
        "\n",
        "# Crude function that declares boundary conditions.\n",
        "def box_boundary(pt:MeshPoint):\n",
        "  if pt.pos[0] <= 0.01: return 2 - pt.pos[1]\n",
        "  if pt.pos[0] >= 0.99: return 1 - pt.pos[1]\n",
        "  if pt.pos[1] <= 0.01: return 2 - pt.pos[0]\n",
        "  if pt.pos[1] >= 0.99: return 1 - pt.pos[0]\n",
        "\n",
        "# Make a new plot that shows the bare boundary...\n",
        "fig,ax = plt.subplots(dpi=100)\n",
        "ax.set_aspect('equal')\n",
        "plt.scatter([ pt[0]                       for pt in box_generator() ],\n",
        "            [ pt[1]                       for pt in box_generator() ],\n",
        "          c=[ box_boundary(MeshPoint(pt)) for pt in box_generator() ])\n",
        "cbar = plt.colorbar()\n",
        "cbar.set_label('Potential')\n",
        "plt.show()"
      ],
      "metadata": {
        "cellView": "form",
        "id": "S3UfVf68nWxN"
      },
      "execution_count": null,
      "outputs": []
    },
    {
      "cell_type": "code",
      "source": [
        "# @title Fill the encolsure with points.\n",
        "\n",
        "# Make a new solver object.\n",
        "box_solution = FiniteDifferences()\n",
        "# Inform it with some parameters.\n",
        "box_solution.set_max_edge_size(0.15)\n",
        "box_solution.set_num_neighbors(6)\n",
        "box_solution.inform_with_boundary_conditions(box_boundary)\n",
        "box_solution.make_points_from_boundary(box_generator())\n",
        "\n",
        "fig,ax = plt.subplots(dpi=100)\n",
        "ax.set_aspect('equal')\n",
        "plt.scatter([ pt.pos[0]                           for pt in box_solution.all_points ],\n",
        "            [ pt.pos[1]                           for pt in box_solution.all_points ],\n",
        "          c=[ ( 0 if pt.pot is None else pt.pot ) for pt in box_solution.all_points ])\n",
        "cbar = plt.colorbar()\n",
        "cbar.set_label('Potential')\n",
        "plt.show()\n"
      ],
      "metadata": {
        "cellView": "form",
        "id": "CYFpZJuVvHrg"
      },
      "execution_count": null,
      "outputs": []
    },
    {
      "cell_type": "code",
      "source": [
        "# @title Make connections between points.\n",
        "\n",
        "box_solution.make_graph_from_points()\n",
        "\n",
        "# Draw the connectivity plot.\n",
        "box_solution.draw_connectivity()\n"
      ],
      "metadata": {
        "cellView": "form",
        "id": "j3hKD4X51l9X"
      },
      "execution_count": null,
      "outputs": []
    },
    {
      "cell_type": "code",
      "source": [
        "# @title Sorcery! Solve for potential inside the region.\n",
        "\n",
        "box_solution.make_systems_matrix()\n",
        "box_solution.solve_systems_matrix()\n",
        "\n",
        "fig,ax = plt.subplots(dpi=100)\n",
        "ax.set_aspect('equal')\n",
        "plt.scatter([ pt[0]  for pt in box_solution.all_points ],\n",
        "            [ pt[1]  for pt in box_solution.all_points ],\n",
        "          c=[ pt.pot for pt in box_solution.all_points ])\n",
        "cbar = plt.colorbar()\n",
        "cbar.set_label('Potential')\n",
        "plt.show()\n"
      ],
      "metadata": {
        "cellView": "form",
        "id": "owPpA27A65Xc"
      },
      "execution_count": null,
      "outputs": []
    }
  ]
}