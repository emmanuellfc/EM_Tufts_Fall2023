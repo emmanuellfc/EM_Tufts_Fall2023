{
 "cells": [
  {
   "cell_type": "code",
   "execution_count": 1,
   "metadata": {},
   "outputs": [],
   "source": [
    "## Poisson Equation\n",
    "# Load  FEM Packages\n",
    "from fenics import *\n",
    "from mshr import *\n",
    "import numpy as np\n",
    "# Plotting Libraries\n",
    "import matplotlib.pyplot as plt\n",
    "plt.style.use(\"_classic_test_patch\")\n",
    "import time # Timing\n",
    "# File Handling\n",
    "import os"
   ]
  },
  {
   "cell_type": "code",
   "execution_count": 2,
   "metadata": {},
   "outputs": [],
   "source": [
    "start = time.time()\n",
    "# Define geometric parameters\n",
    "inner_radius = 0.5\n",
    "outer_radius = 2.0\n",
    "\n",
    "# Classes for boundaries \n",
    "class InnerBoundary(SubDomain):\n",
    "    def inside(self, x, on_boundary):\n",
    "        return on_boundary\n",
    "    \n",
    "class OuterBoundary(SubDomain):\n",
    "    def inside(self, x, on_boundary):\n",
    "        return sqrt(x[0]**2 + x[1]**2)  < outer_radius - DOLFIN_EPS and on_boundary\n",
    "\n",
    "# Function Definition\n",
    "def PlotFields(u_field, e_field):\n",
    "    \"\"\"\n",
    "    PlotFields(u_field, e_field)\n",
    "    \"\"\"\n",
    "    fig = plt.figure(figsize = (14,10))                       # Set the resolution\n",
    "    plt.subplot(121)\n",
    "    figU = plot(u_field)\n",
    "    cbarV = plt.colorbar(figU, shrink=0.5)\n",
    "    cbarV.set_label(\"Potential Field\")\n",
    "    # plt.title(\"Potential Field\")\n",
    "    plt.subplot(122)\n",
    "    figE = plot(e_field)\n",
    "    cbarE = plt.colorbar(figE, shrink = 0.5)\n",
    "    cbarE.set_label(\"Electric Field\")\n",
    "    # plt.title(\"Electric Field\")\n",
    "    plt.show()\n",
    "\n",
    "def AnalyticV(x, a, b):\n",
    "    \"\"\"\n",
    "    Analytical Solution:\n",
    "    u(x) = - (10  / np.log(b/a)) * np.log(x/a) + 10\n",
    "    \"\"\"\n",
    "    return - (10  / np.log(b/a)) * np.log(x/a) + 10\n",
    "\n",
    "def AnalyticE(x, a, b):\n",
    "    \"\"\"\n",
    "    Electric Field\n",
    "    E(x) = - 10 / x\n",
    "    \"\"\"\n",
    "    return ((10  / np.log(b/a)) * (1 / x))\n",
    "\n",
    "def PlotComparissonVField(x, y, inner_radius, outer_radius):\n",
    "    plt.figure(dpi=400)                       \n",
    "    plt.plot(x, y)\n",
    "    plt.plot(x, AnalyticV(x, inner_radius, outer_radius), '--')\n",
    "    # plt.title(\"Comparisson Between Aproximate and Analytic Solution for Potential\")\n",
    "    plt.xlabel(\"Radius\")\n",
    "    plt.ylabel(\"Potential Field\")\n",
    "    plt.legend([\"FEM\", \"Analytic\"])\n",
    "    plt.grid()\n",
    "    plt.savefig(\"ComparissonPotentialFEMCoaxial.png\")\n",
    "    plt.show()                  \n",
    "    \n",
    "def PlotComparissonEField(x, y, inner_radius, outer_radius):\n",
    "    plt.figure(dpi=400)                       \n",
    "    plt.plot(x, y)\n",
    "    plt.plot(x, AnalyticE(x, inner_radius, outer_radius), '--')\n",
    "    # plt.title(\"Comparisson Between Aproximate and Analytic Solution for Electric Field\")\n",
    "    plt.xlabel(\"Radius\")\n",
    "    plt.ylabel(\"Electric Field\")\n",
    "    plt.legend([\"FEM\", \"Analytic\"])\n",
    "    plt.grid()\n",
    "    plt.savefig(\"ComparissonElectricFEMCoaxial.png\")\n",
    "    plt.show()  \n",
    "\n",
    "# Compute Root Mean Square Error\n",
    "def RMS(y, y_pred):\n",
    "    \"\"\"\n",
    "    RMSE(y, y_pred)\n",
    "    \"\"\"\n",
    "    return np.sqrt(np.mean(np.square(y - y_pred)))\n",
    "\n",
    "# Compute Mean Absolute Error\n",
    "def MAE(y, y_pred):\n",
    "    \"\"\"\n",
    "    MAE(y, y_pred)\n",
    "    \"\"\"\n",
    "    return np.mean(np.abs(y - y_pred))                "
   ]
  },
  {
   "cell_type": "code",
   "execution_count": 3,
   "metadata": {},
   "outputs": [],
   "source": [
    "# Create mesh\n",
    "domain = Circle(Point(0, 0), outer_radius) - Circle(Point(0, 0), inner_radius)\n",
    "mesh = generate_mesh(domain, 25)\n",
    "\n",
    "# Create mesh functions over the cell facets\n",
    "sub_domains = MeshFunction(\"size_t\", mesh, mesh.topology().dim() - 1)\n",
    "\n",
    "# Mark all facets as sub domains\n",
    "sub_domains.set_all(2)\n",
    "inner = InnerBoundary()\n",
    "outer = OuterBoundary()\n",
    "inner.mark(sub_domains, 0)\n",
    "outer.mark(sub_domains, 1)\n",
    "\n",
    "# Define function space\n",
    "V = FunctionSpace(mesh, 'P', 1)\n",
    "bc0 = DirichletBC(V, Constant(0.0), sub_domains, 0)\n",
    "bc1 = DirichletBC(V, Constant(10.0), sub_domains, 1)\n",
    "bcs = [bc0, bc1]"
   ]
  },
  {
   "cell_type": "code",
   "execution_count": 4,
   "metadata": {},
   "outputs": [],
   "source": [
    "# Define variational problem\n",
    "u = TrialFunction(V)\n",
    "v = TestFunction(V)\n",
    "a = dot(grad(u), grad(v)) * dx\n",
    "L = Constant('0') * v * dx\n",
    "u = Function(V)\n",
    "set_log_level(LogLevel.ERROR) # Hide solver output\n",
    "\n",
    "# Solve problem\n",
    "solve(a == L, u, bcs)"
   ]
  },
  {
   "cell_type": "code",
   "execution_count": 5,
   "metadata": {},
   "outputs": [],
   "source": [
    "# Save solution to file in VTK format\n",
    "vtkfile = File('Coaxial/solution.pvd')\n",
    "vtkfile << u"
   ]
  },
  {
   "cell_type": "code",
   "execution_count": 6,
   "metadata": {},
   "outputs": [],
   "source": [
    "# os.chdir(\"Figures\")\n",
    "# ## Plotting the solution.\n",
    "# plt.figure(dpi=400)                       \n",
    "# plot(mesh)\n",
    "# # plt.savefig(\"Coaxial_Mesh.png\")              \n",
    "# # plt.colorbar(plot(u)) \n",
    "# plt.show()\n"
   ]
  },
  {
   "cell_type": "code",
   "execution_count": 7,
   "metadata": {},
   "outputs": [],
   "source": [
    "# ## Plotting the solution.\n",
    "# plt.figure(dpi=400)                       \n",
    "# # plot(u, title = 'Potential Field')              \n",
    "# plt.colorbar(plot(u)) \n",
    "# # plt.savefig(\"PotentialFieldFEMCoaxial.png\")\n",
    "# plt.show()"
   ]
  },
  {
   "cell_type": "code",
   "execution_count": 8,
   "metadata": {},
   "outputs": [],
   "source": [
    "# ## Plotting the electric field.\n",
    "# e_field = - grad(u)\n",
    "# e = project(e_field)\n",
    "# plt.figure(dpi=200)                       \n",
    "# # plot(e, title = 'Electric Field')              \n",
    "# plt.colorbar(plot(e)) \n",
    "# # plt.savefig(\"ElectricFieldFEMCoaxial.png\")\n",
    "# plt.show()                  "
   ]
  },
  {
   "cell_type": "code",
   "execution_count": 9,
   "metadata": {},
   "outputs": [],
   "source": [
    "# PlotFields(u, e)\n",
    "# plt.savefig(\"FEMCoaxial.png\")"
   ]
  },
  {
   "cell_type": "code",
   "execution_count": 10,
   "metadata": {},
   "outputs": [],
   "source": [
    "# # Comparisson with the Potential Field\n",
    "# x = np.arange(inner_radius, outer_radius, 0.01)\n",
    "# y = [u(Point(i, 0)) for i in x]\n",
    "# PlotComparissonVField(x, y, inner_radius, outer_radius)\n",
    "\n"
   ]
  },
  {
   "cell_type": "code",
   "execution_count": 11,
   "metadata": {},
   "outputs": [],
   "source": [
    "# # Comparisson with the Electric Field\n",
    "# # x1 = np.arange(inner_radius, outer_radius, 0.01)\n",
    "# y1 = [e(Point(i, 0))[0] for i in x]\n",
    "# PlotComparissonEField(x, y1, inner_radius, outer_radius)\n"
   ]
  },
  {
   "cell_type": "code",
   "execution_count": 12,
   "metadata": {},
   "outputs": [],
   "source": [
    "# # Comparisson Between The GFD and FEM\n",
    "# y_GFD = np.linspace(inner_radius, 1.99, 50)\n",
    "# x_GFD = [9.762555428523092, 9.318857554051077, 9.012229627298815, 8.705879313276258, 8.307268995965298, 7.958446817264932, 7.622444741738769, 7.3157142041462135, 7.060281301150473, 6.7948868321967195, 6.526696182033194, 6.255402977203453, 6.022882773531246, 5.797185107236807, 5.582935755678979, 5.3300994669419, 5.097092266675937, 4.863517443702829, 4.698388611418365, 4.474858247171111, 4.282023678752375, 4.1210925921725625, 3.959295096913816, 3.809157283281594, 3.6381868579256036, 3.449879466169591, 3.2692930281800363, 3.092650131207359, 2.921500855092335, 2.767342336555782, 2.6025164878272613, 2.4195517571383043, 2.2474037196437164, 2.0839814751516648, 1.9524652880366988, 1.8144556636142921, 1.6588597019916633, 1.5203687826653731, 1.3840209703792197, 1.2444017463585664, 1.130863060722847, 1.0120028681475708, 0.8683026914918783, 0.7428539342886932, 0.6184069311850675, 0.4975050647274445, 0.384132841501089, 0.2787469722797418, 0.16528781686087618, 0.05083508190628628]\n",
    "# y = [u(Point(i, 0)) for i in y_GFD]\n",
    "# plt.figure(dpi=200)\n",
    "# plt.plot(y_GFD, y, '--')\n",
    "# plt.plot(y_GFD, x_GFD)\n",
    "# plt.xlabel(\"Radius\")\n",
    "# plt.ylabel(\"Potential Field\")\n",
    "# plt.legend([\"GFD\", \"FEM\"])\n",
    "# plt.grid()\n",
    "# plt.savefig(\"ComparissonPotentialFEMGFD.png\")\n",
    "# plt.show()"
   ]
  },
  {
   "cell_type": "code",
   "execution_count": 13,
   "metadata": {},
   "outputs": [],
   "source": [
    "# # Comparisson with the Potential Field\n",
    "# p = np.arange(inner_radius, outer_radius, 0.01)\n",
    "# q = [u(Point(i, 0)) for i in p]\n",
    "# q1 = [e(Point(i, 0))[0] for i in p]\n",
    "# r = [AnalyticV(i, inner_radius, outer_radius) for i in p]\n",
    "# s = [AnalyticE(i, inner_radius, outer_radius) for i in p]"
   ]
  },
  {
   "cell_type": "code",
   "execution_count": 14,
   "metadata": {},
   "outputs": [],
   "source": [
    "# # Compute Mean Absolute Percentage Error\n",
    "# RMSV = round(RMS(np.array(q), np.array(r)), 3)\n",
    "# # print(\"RMSE: \", RMSV)\n",
    "# plt.figure(dpi=400)                       \n",
    "# plt.plot(p, r) # Model\n",
    "# plt.plot(p, q, '--')       # FEM\n",
    "# # # plt.title(\"Comparisson Between Aproximate and Analytic Solution for Potential\")\n",
    "# plt.xlabel(\"Radius\")\n",
    "# plt.ylabel(\"Potential Field\")\n",
    "# plt.legend([\"Analytic\",\"FEM, RMS: \" + str(RMSV)])\n",
    "# plt.grid()\n",
    "# plt.savefig(\"ComparissonVFieldFEMCoaxial.png\")\n",
    "# plt.show()                  "
   ]
  },
  {
   "cell_type": "code",
   "execution_count": 15,
   "metadata": {},
   "outputs": [],
   "source": [
    "# # Compute Mean Absolute Percentage Error\n",
    "# RMSE = round(RMS(np.array(q1), np.array(s)), 3)\n",
    "# # print(\"RMSE: \", RMSV)\n",
    "# plt.figure(dpi=400)                       \n",
    "# plt.plot(p, s) # Model\n",
    "# plt.plot(p, q1, '--')       # FEM\n",
    "# plt.xlabel(\"Radius\")\n",
    "# plt.ylabel(\"Potential Field\")\n",
    "# plt.legend([\"Analytic\",\"FEM, RMS: \" + str(RMSV)])\n",
    "# plt.grid()"
   ]
  },
  {
   "cell_type": "code",
   "execution_count": 16,
   "metadata": {},
   "outputs": [],
   "source": [
    "# fig = plt.figure(figsize=(14,5))                       # Set the resolution\n",
    "# plt.subplot(121)\n",
    "# plt.plot(p, r) # Model\n",
    "# plt.plot(p, q, '--') # FEM\n",
    "# plt.xlabel(\"Radius\") \n",
    "# plt.ylabel(\"Potential Field\")\n",
    "# plt.legend([\"Analytic\",\"FEM, RMS: \" + str(RMSV)])\n",
    "# plt.grid()\n",
    "# # Second Plot\n",
    "# plt.subplot(122)\n",
    "# plt.plot(p, s) # Model\n",
    "# plt.plot(p, q1, '--') # FEM\n",
    "# plt.xlabel(\"Radius\")\n",
    "# plt.ylabel(\"Potential Field\")\n",
    "# plt.legend([\"Analytic\",\"FEM, RMS: \" + str(RMSE)])\n",
    "# plt.grid()\n",
    "# # Save Fig\n",
    "# plt.savefig(\"FullComparissonVECoaxial.png\")\n",
    "# plt.show()"
   ]
  },
  {
   "cell_type": "code",
   "execution_count": 17,
   "metadata": {},
   "outputs": [],
   "source": [
    "# # Comparisson Between The GFD and FEM and Analytic\n",
    "# y_GFD = np.linspace(inner_radius, 1.99, 50)\n",
    "# x_GFD = [9.762555428523092, 9.318857554051077, 9.012229627298815, 8.705879313276258, 8.307268995965298, 7.958446817264932, 7.622444741738769, 7.3157142041462135, 7.060281301150473, 6.7948868321967195, 6.526696182033194, 6.255402977203453, 6.022882773531246, 5.797185107236807, 5.582935755678979, 5.3300994669419, 5.097092266675937, 4.863517443702829, 4.698388611418365, 4.474858247171111, 4.282023678752375, 4.1210925921725625, 3.959295096913816, 3.809157283281594, 3.6381868579256036, 3.449879466169591, 3.2692930281800363, 3.092650131207359, 2.921500855092335, 2.767342336555782, 2.6025164878272613, 2.4195517571383043, 2.2474037196437164, 2.0839814751516648, 1.9524652880366988, 1.8144556636142921, 1.6588597019916633, 1.5203687826653731, 1.3840209703792197, 1.2444017463585664, 1.130863060722847, 1.0120028681475708, 0.8683026914918783, 0.7428539342886932, 0.6184069311850675, 0.4975050647274445, 0.384132841501089, 0.2787469722797418, 0.16528781686087618, 0.05083508190628628]\n",
    "# y = [u(Point(i, 0)) for i in y_GFD]\n",
    "# r = [AnalyticV(i, inner_radius, outer_radius) for i in y_GFD]\n",
    "# RMSV_GFD = round(RMS(np.array(r), np.array(x_GFD)), 3)"
   ]
  },
  {
   "cell_type": "code",
   "execution_count": 18,
   "metadata": {},
   "outputs": [],
   "source": [
    "# # Plot Comparisson Full Analytic, FEM and GFD\n",
    "# plt.figure(dpi=400)\n",
    "# plt.plot(y_GFD,r,color = \"black\")\n",
    "# plt.plot(y_GFD, y, 'o', color = \"red\", markersize = 3.0)\n",
    "# plt.plot(y_GFD, x_GFD, 'o', color = \"green\", markersize = 3.0)\n",
    "# plt.xlabel(\"Radius\")\n",
    "# plt.ylabel(\"Potential Field\")\n",
    "# plt.legend([\"Analytic\",\"FEM, RMS: \" + str(RMSV), \"GFD, RMS: \"+ str(RMSV_GFD)])\n",
    "# plt.grid()\n",
    "# plt.savefig(\"ComparissonPotentialFEMGFD.png\")\n",
    "# plt.show()"
   ]
  },
  {
   "cell_type": "code",
   "execution_count": 19,
   "metadata": {},
   "outputs": [],
   "source": [
    "# # Plot Zoom in Comparisson Full Analytic, FEM and GFD\n",
    "# plt.figure(dpi=200)\n",
    "# plt.plot(y_GFD,r,color = \"black\")\n",
    "# plt.plot(y_GFD, y, 'o', color = \"red\", markersize = 3.0)\n",
    "# plt.plot(y_GFD, x_GFD, 'o', color = \"green\", markersize = 3.0)\n",
    "# plt.xlabel(\"Radius\")\n",
    "# plt.ylabel(\"Potential Field\")\n",
    "# # plt.legend([\"Analytic\",\"FEM, RMS: \" + str(RMSV), \"GFD, RMS: \"+ str(RMSV_GFD)])\n",
    "# plt.xlim([0.49, 0.8])\n",
    "# plt.ylim([6.5, 10.1])\n",
    "# plt.grid()\n",
    "# plt.savefig(\"ComparissonPotentialFEMGFD_Zoom.png\")\n",
    "# plt.show()"
   ]
  },
  {
   "cell_type": "code",
   "execution_count": 20,
   "metadata": {},
   "outputs": [],
   "source": [
    "# # Get Coordinates of the vertices in the Mesh\n",
    "# vertex_coordinates = mesh.coordinates()\n",
    "# x = vertex_coordinates[:,0]\n",
    "# y = vertex_coordinates[:,1]\n",
    "\n",
    "# # Plot vertices of the mesh\n",
    "# fig, ax = plt.subplots(dpi=200)\n",
    "# ax.set_aspect('equal')\n",
    "# ax.scatter(x,y, s = 0.5)\n",
    "# plt.savefig(\"Coaxial_Vertices.png\")\n",
    "# plt.show()"
   ]
  },
  {
   "cell_type": "code",
   "execution_count": 21,
   "metadata": {},
   "outputs": [],
   "source": [
    "# final  = time.time()\n",
    "# print(\"Total Time: \", final - start)"
   ]
  }
 ],
 "metadata": {
  "kernelspec": {
   "display_name": "fenics",
   "language": "python",
   "name": "python3"
  },
  "language_info": {
   "codemirror_mode": {
    "name": "ipython",
    "version": 3
   },
   "file_extension": ".py",
   "mimetype": "text/x-python",
   "name": "python",
   "nbconvert_exporter": "python",
   "pygments_lexer": "ipython3",
   "version": "3.12.0"
  }
 },
 "nbformat": 4,
 "nbformat_minor": 2
}
